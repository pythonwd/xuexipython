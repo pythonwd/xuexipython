{
 "cells": [
  {
   "cell_type": "code",
   "execution_count": 6,
   "metadata": {},
   "outputs": [
    {
     "name": "stderr",
     "output_type": "stream",
     "text": [
      "/home/wangd/anaconda3/lib/python3.6/site-packages/pandas/io/excel.py:329: FutureWarning: The `sheetname` keyword is deprecated, use `sheet_name` instead\n",
      "  **kwds)\n"
     ]
    },
    {
     "name": "stdout",
     "output_type": "stream",
     "text": [
      "月份\n",
      "1      808178.60\n",
      "2       41248.00\n",
      "3     1479950.90\n",
      "4     1591601.20\n",
      "5     1588867.89\n",
      "6     1534095.60\n",
      "7     2283387.80\n",
      "8     2117000.71\n",
      "9     2143497.78\n",
      "10    1772013.11\n",
      "Name: 价税合计, dtype: float64\n"
     ]
    },
    {
     "data": {
      "text/plain": [
       "<matplotlib.axes._subplots.AxesSubplot at 0x7fb321270a90>"
      ]
     },
     "execution_count": 6,
     "metadata": {},
     "output_type": "execute_result"
    },
    {
     "data": {
      "image/png": "[encoded data removed]",
      "text/plain": [
       "<Figure size 432x288 with 1 Axes>"
      ]
     },
     "metadata": {},
     "output_type": "display_data"
    }
   ],
   "source": [
    "import pandas as pd\n",
    "import matplotlib.pyplot as plt\n",
    "df = pd.read_excel(\"/home/wangd/截止10月30日销量.xlsx\",sheetname = \"10.31\")\n",
    "df = df.loc[df[\"业 务 员\"].isin([\"王东（大）\"])]\n",
    "df2 = df.loc[df[\"年份\"].isin([\"2018\"])]\n",
    "df2 = df2.replace([\"一月\",\"二月\",\"三月\",\"四月\",\"五月\",\"六月\",\"七月\",\"八月\",\"九月\",\"十月\",\"十一月\",\"十二月\"],\n",
    "              [1,2,3,4,5,6,7,8,9,10,11,12])\n",
    "\n",
    "df2 = pd.pivot_table(df2,index=[\"月份\"],aggfunc=\"sum\")\n",
    "df2 = df2.sort_values(by=\"月份\")\n",
    "df2 = df2[\"价税合计\"]\n",
    "print(df2)\n",
    "df2.plot(kind=\"bar\")"
   ]
  },
  {
   "cell_type": "code",
   "execution_count": null,
   "metadata": {},
   "outputs": [],
   "source": []
  }
 ],
 "metadata": {
  "kernelspec": {
   "display_name": "Python 3",
   "language": "python",
   "name": "python3"
  },
  "language_info": {
   "codemirror_mode": {
    "name": "ipython",
    "version": 3
   },
   "file_extension": ".py",
   "mimetype": "text/x-python",
   "name": "python",
   "nbconvert_exporter": "python",
   "pygments_lexer": "ipython3",
   "version": "3.6.5"
  }
 },
 "nbformat": 4,
 "nbformat_minor": 2
}
