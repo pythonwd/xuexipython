{
 "cells": [
  {
   "cell_type": "code",
   "execution_count": 2,
   "metadata": {},
   "outputs": [
    {
     "name": "stdout",
     "output_type": "stream",
     "text": [
      "爬取完毕,总爬取190张小姐姐\n"
     ]
    }
   ],
   "source": [
    "from requests_html import HTMLSession\n",
    "import requests\n",
    "import os\n",
    "import time\n",
    "\n",
    "img_num = 0\n",
    "session = HTMLSession()\n",
    "\n",
    "# 得到首页下所有li a 下的href链接\n",
    "def li_lists_url(url):\n",
    "    request = session.get(url)      # 这里返回的师requests对象\n",
    "    li_lists = request.html.find('div.Left_bar',first=True).find('li')   #前台比较好的  好理解\n",
    "    for i in li_lists:\n",
    "        href = i.find('a',first=True).attrs['href']\n",
    "        # title = i.find('a',first=True).attrs['title']\n",
    "        get_girls(href)\n",
    "\n",
    "# 得到详细的小图片\n",
    "def get_girls(url):\n",
    "    request = session.get(url)\n",
    "    li_lists = request.html.find('div.scroll-img-cont',first=True).find('li')\n",
    "    for i in li_lists:\n",
    "        img_url = i.find('a img',first=True).attrs['data-original']\n",
    "        img_url =img_url[0:img_url.find('_')]+'.jpg'\n",
    "        # print(img_url)\n",
    "        try:\n",
    "            save_img(img_url)\n",
    "        except:\n",
    "            print('报错了')\n",
    "        \n",
    "\n",
    "# 下载图片\n",
    "def save_img(img_url):\n",
    "    global img_num \n",
    "    img_num += 1\n",
    "    request = requests.get(img_url)\n",
    "    title = int(round(time.time()*1000))\n",
    "    with open(r'/home/wangd/图片/pythontup/%d.jpg'%title,'wb') as file:\n",
    "        file.write(request.content)\n",
    "\n",
    "def main(url):\n",
    "    li_lists_url(url)\n",
    "\n",
    "if __name__ == '__main__':\n",
    "    url = 'http://www.win4000.com/zt/xinggan.html'\n",
    "    main(url)\n",
    "    print('爬取完毕,总爬取%d张小姐姐'%img_num)\n"
   ]
  },
  {
   "cell_type": "code",
   "execution_count": null,
   "metadata": {},
   "outputs": [],
   "source": []
  }
 ],
 "metadata": {
  "kernelspec": {
   "display_name": "Python 3",
   "language": "python",
   "name": "python3"
  },
  "language_info": {
   "codemirror_mode": {
    "name": "ipython",
    "version": 3
   },
   "file_extension": ".py",
   "mimetype": "text/x-python",
   "name": "python",
   "nbconvert_exporter": "python",
   "pygments_lexer": "ipython3",
   "version": "3.6.5"
  }
 },
 "nbformat": 4,
 "nbformat_minor": 2
}
