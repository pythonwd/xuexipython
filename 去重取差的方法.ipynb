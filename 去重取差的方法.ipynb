{
 "cells": [
  {
   "cell_type": "code",
   "execution_count": 25,
   "metadata": {},
   "outputs": [
    {
     "name": "stdout",
     "output_type": "stream",
     "text": [
      "      月份        发货日期            客户名称  客户编码 业 务 员 存货名称     规格型号  颜色      数量  \\\n",
      "7443  一月  2016-01-02  芜湖可欣节能材料科技有限公司  whkx   崔蠢蛋  556  500ml/条  黑色  1000.0   \n",
      "\n",
      "     主计量单位       ...        省份          发货地址  \\\n",
      "7443     条       ...        安徽  芜湖市鸠江区阳明路28号   \n",
      "\n",
      "                                      收货人联系方式   件数   备 注  类型  产品类型   销售部门  \\\n",
      "7443  王常全 13866369955 身份信息:21022219750820913X  1.0  周总短信  民用   民用胶  上海分公司   \n",
      "\n",
      "      单位重量             经销商  \n",
      "7443  0.74  芜湖可欣节能材料科技有限公司  \n",
      "\n",
      "[1 rows x 29 columns]\n"
     ]
    }
   ],
   "source": [
    "import pandas as pd\n",
    "df = pd.read_excel(\"/home/wangd/截止8月31日销量.xlsx\")\n",
    "df2 = pd.read_excel(\"/home/wangd/8月30日销量.xlsx\")\n",
    "df3 = pd.concat([df,df2],ignore_index=True)#先合并\n",
    "df3 = df3.append(df)#再故意添加一个重复的进去\n",
    "df3 = df3.drop_duplicates(keep=False)#再去重\n",
    "print(df3)"
   ]
  },
  {
   "cell_type": "code",
   "execution_count": null,
   "metadata": {},
   "outputs": [],
   "source": []
  }
 ],
 "metadata": {
  "kernelspec": {
   "display_name": "Python 3",
   "language": "python",
   "name": "python3"
  },
  "language_info": {
   "codemirror_mode": {
    "name": "ipython",
    "version": 3
   },
   "file_extension": ".py",
   "mimetype": "text/x-python",
   "name": "python",
   "nbconvert_exporter": "python",
   "pygments_lexer": "ipython3",
   "version": "3.6.5"
  }
 },
 "nbformat": 4,
 "nbformat_minor": 2
}
