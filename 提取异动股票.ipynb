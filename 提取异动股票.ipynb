{
 "cells": [
  {
   "cell_type": "code",
   "execution_count": 81,
   "metadata": {},
   "outputs": [
    {
     "name": "stdout",
     "output_type": "stream",
     "text": [
      "          zj\n",
      "code        \n",
      "603990  True\n"
     ]
    }
   ],
   "source": [
    "import pandas as pd\n",
    "df = pd.read_excel(\"/home/wangd/sisijk.xlsx\")\n",
    "df = df.T#翻转\n",
    "df.columns = df.iloc[0,:]  #行名转列名\n",
    "df = df.drop(df.index[0])  #去除多余的一行\n",
    "df = df.tail(1) > df.mean()*1.5  #最后一行的值出现异常后提取出来\n",
    "df = df.T #再次转回，便于提取代码\n",
    "df.columns = [\"zj\"] #重命名列名，便于使用loc函数\n",
    "df = df.loc[df['zj'] == True] #使用loc函数提取true值\n",
    "\n",
    "\n",
    "print(df)"
   ]
  },
  {
   "cell_type": "code",
   "execution_count": null,
   "metadata": {},
   "outputs": [],
   "source": []
  },
  {
   "cell_type": "code",
   "execution_count": null,
   "metadata": {},
   "outputs": [],
   "source": []
  }
 ],
 "metadata": {
  "kernelspec": {
   "display_name": "Python 3",
   "language": "python",
   "name": "python3"
  },
  "language_info": {
   "codemirror_mode": {
    "name": "ipython",
    "version": 3
   },
   "file_extension": ".py",
   "mimetype": "text/x-python",
   "name": "python",
   "nbconvert_exporter": "python",
   "pygments_lexer": "ipython3",
   "version": "3.6.5"
  }
 },
 "nbformat": 4,
 "nbformat_minor": 2
}
