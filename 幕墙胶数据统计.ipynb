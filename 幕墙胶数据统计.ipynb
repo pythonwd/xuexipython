{
 "cells": [
  {
   "cell_type": "code",
   "execution_count": 2,
   "metadata": {},
   "outputs": [
    {
     "name": "stderr",
     "output_type": "stream",
     "text": [
      "/home/wangd/anaconda3/lib/python3.6/site-packages/pandas/io/excel.py:329: FutureWarning: The `sheetname` keyword is deprecated, use `sheet_name` instead\n",
      "  **kwds)\n"
     ]
    },
    {
     "name": "stdout",
     "output_type": "stream",
     "text": [
      "180695.8\n"
     ]
    }
   ],
   "source": [
    "import pandas as pd\n",
    "import numpy as np\n",
    "\n",
    "df = pd.read_excel(\"/home/wangd/截止10月30日销量.xlsx\",sheetname = \"10.31\")\n",
    "df2 = df.loc[df[\"业 务 员\"].isin([\"王东（大）\"])]\n",
    "df2 = df2.loc[df2[\"年份\"].isin([\"2018\"])]\n",
    "df2 = df2.loc[df2[\"客户名称\"].isin([\"福建新永美建设有限公司\"])]\n",
    "#df2 = df2[(df2[\"存货名称\"]==\"119\")|(df2[\"存货名称\"]==\"992A\")|(df2[\"存货名称\"]==\"992B\")|(df2[\"存货名称\"]==\"998\")\n",
    " #        |(df2[\"存货名称\"]==\"997\")|(df2[\"存货名称\"]==\"996\")|(df2[\"存货名称\"]==\"993\")|(df2[\"存货名称\"]==\"995\")\n",
    " #       |(df2[\"存货名称\"]==\"999TM\")|(df2[\"存货名称\"]==\"999\")|(df2[\"存货名称\"]==\"996TM\")|(df2[\"存货名称\"]==\"998TM\")]\n",
    "\n",
    "#df2 = df2[(df2[\"存货名称\"]==\"563\")|(df2[\"存货名称\"]==\"563TM\")|(df2[\"存货名称\"]==\"556\")|(df2[\"存货名称\"]==\"557\")\n",
    "#       |(df2[\"存货名称\"]==\"556TM\")|(df2[\"存货名称\"]==\"557TM\")|(df2[\"存货名称\"]==\"561\")|(df2[\"存货名称\"]==\"561TM\")]\n",
    "    \n",
    "#df2 = df2[(df2[\"存货名称\"]==\"882A\")|(df2[\"存货名称\"]==\"886A\")|(df2[\"存货名称\"]==\"882B\")|(df2[\"存货名称\"]==\"886B\")\n",
    "#        |(df2[\"存货名称\"]==\"MS880A\")|(df2[\"存货名称\"]==\"MS880B\")|(df2[\"存货名称\"]==\"丁基胶\")] \n",
    "\n",
    "\n",
    "#js2 = pd.pivot_table(df2,index=[\"年份\",\"月份\",\"存货名称\"],aggfunc=\"sum\")\n",
    "\n",
    "js2 = df2[\"价税合计\"].sum()\n",
    "print(js2)\n"
   ]
  },
  {
   "cell_type": "code",
   "execution_count": null,
   "metadata": {},
   "outputs": [],
   "source": []
  },
  {
   "cell_type": "code",
   "execution_count": null,
   "metadata": {},
   "outputs": [],
   "source": [
    "_"
   ]
  }
 ],
 "metadata": {
  "kernelspec": {
   "display_name": "Python 3",
   "language": "python",
   "name": "python3"
  },
  "language_info": {
   "codemirror_mode": {
    "name": "ipython",
    "version": 3
   },
   "file_extension": ".py",
   "mimetype": "text/x-python",
   "name": "python",
   "nbconvert_exporter": "python",
   "pygments_lexer": "ipython3",
   "version": "3.6.5"
  }
 },
 "nbformat": 4,
 "nbformat_minor": 2
}
