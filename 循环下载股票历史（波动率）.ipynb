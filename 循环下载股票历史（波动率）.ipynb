{
 "cells": [
  {
   "cell_type": "code",
   "execution_count": 46,
   "metadata": {},
   "outputs": [
    {
     "name": "stdout",
     "output_type": "stream",
     "text": [
      "603016\n",
      "600766\n",
      "600093\n",
      "300365\n",
      "2937\n",
      "2853\n",
      "2776\n"
     ]
    }
   ],
   "source": [
    "import pandas as pd\n",
    "import tushare as ts\n",
    "import datetime\n",
    "\n",
    "df2 = pd.read_excel(\"/home/wangd/每日行情.xlsx\")\n",
    "code = df2[\"股票代码\"]\n",
    "today = datetime.date.today()\n",
    "oneday = datetime.timedelta(days=20)\n",
    "beging = str(today-oneday)\n",
    "for i in code:\n",
    "    try:\n",
    "   \n",
    "        df = ts.get_hist_data('%06d' % i,start='%s' % beging)   #%06d,表示数字是6位数，如不够就自动加0到前面\n",
    "   \n",
    "    \n",
    "        if df.iloc[0,2] < df[\"close\"].max()*0.90 and df.iloc[0,2] > df[\"close\"].mean():\n",
    "    \n",
    "            print(i)\n",
    "        else:\n",
    "            pass\n",
    "    except:\n",
    "        pass"
   ]
  },
  {
   "cell_type": "code",
   "execution_count": null,
   "metadata": {},
   "outputs": [],
   "source": []
  }
 ],
 "metadata": {
  "kernelspec": {
   "display_name": "Python 3",
   "language": "python",
   "name": "python3"
  },
  "language_info": {
   "codemirror_mode": {
    "name": "ipython",
    "version": 3
   },
   "file_extension": ".py",
   "mimetype": "text/x-python",
   "name": "python",
   "nbconvert_exporter": "python",
   "pygments_lexer": "ipython3",
   "version": "3.6.5"
  }
 },
 "nbformat": 4,
 "nbformat_minor": 2
}
